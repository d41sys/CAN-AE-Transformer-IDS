{
 "cells": [
  {
   "cell_type": "code",
   "execution_count": 3,
   "metadata": {},
   "outputs": [
    {
     "name": "stdout",
     "output_type": "stream",
     "text": [
      "Tensorflow version 2.13.0-rc1\n"
     ]
    }
   ],
   "source": [
    "import tensorflow as tf\n",
    "import numpy as np\n",
    "import json\n",
    "import argparse\n",
    "from functools import partial\n",
    "from multiprocessing import Pool\n",
    "from tqdm import tqdm\n",
    "import os\n",
    "print('Tensorflow version', tf.__version__)"
   ]
  },
  {
   "cell_type": "code",
   "execution_count": 10,
   "metadata": {},
   "outputs": [
    {
     "name": "stdout",
     "output_type": "stream",
     "text": [
      "           timestamp header payload  label\n",
      "0  1478198451.077796   04f0    04f0   True\n",
      "1  1478198451.077796   04f0    04f0  False\n",
      "2  1478198451.077796   04f0    04f0   True\n",
      "3  1478198451.077796   04f0    04f0  False\n",
      "4  1478198451.077796   04f0    04f0   True\n",
      "5  1478198451.077796   04f0    04f0   True\n"
     ]
    }
   ],
   "source": [
    "\n",
    "# Craete DataFrame\n",
    "import pandas as pd\n",
    "import numpy as np\n",
    "timestamp = [\"1478198451.077796\",\"1478198451.077796\",\"1478198451.077796\",\"1478198451.077796\",\"1478198451.077796\",\"1478198451.077796\"]\n",
    "canid = [\"04f0\",\"04f0\",\"04f0\",\"04f0\",\"04f0\",\"04f0\"]\n",
    "data = [\"04f0\",\"04f0\",\"04f0\",\"04f0\",\"04f0\",\"04f0\"]\n",
    "label = [False, False, False, False, False, False]\n",
    "df = pd.DataFrame({\n",
    "    'timestamp': pd.Series(timestamp.tolist()), \n",
    "    'header': pd.Series(canid.tolist()), \n",
    "    'payload': pd.Series(data.tolist()),\n",
    "    'label': pd.Series(label.tolist())\n",
    "}, index= range(len(canid)))\n",
    "print(df)"
   ]
  },
  {
   "cell_type": "code",
   "execution_count": 19,
   "metadata": {},
   "outputs": [
    {
     "name": "stdout",
     "output_type": "stream",
     "text": [
      "True\n",
      "False\n"
     ]
    }
   ],
   "source": [
    "if any([False, True, False, False, False, False]):\n",
    "    print('True')\n",
    "print('False')"
   ]
  },
  {
   "cell_type": "code",
   "execution_count": 32,
   "metadata": {},
   "outputs": [
    {
     "name": "stdout",
     "output_type": "stream",
     "text": [
      "<class 'list'>\n"
     ]
    },
    {
     "data": {
      "text/plain": [
       "array([1])"
      ]
     },
     "execution_count": 32,
     "metadata": {},
     "output_type": "execute_result"
    }
   ],
   "source": [
    "y = [[1]]\n",
    "print(type(y))\n",
    "np.array([y]).flatten()"
   ]
  }
 ],
 "metadata": {
  "kernelspec": {
   "display_name": "torchtf",
   "language": "python",
   "name": "python3"
  },
  "language_info": {
   "codemirror_mode": {
    "name": "ipython",
    "version": 3
   },
   "file_extension": ".py",
   "mimetype": "text/x-python",
   "name": "python",
   "nbconvert_exporter": "python",
   "pygments_lexer": "ipython3",
   "version": "3.9.16"
  },
  "orig_nbformat": 4
 },
 "nbformat": 4,
 "nbformat_minor": 2
}
